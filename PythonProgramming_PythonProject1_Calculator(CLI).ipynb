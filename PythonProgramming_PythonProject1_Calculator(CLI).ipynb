{
 "cells": [
  {
   "cell_type": "code",
   "execution_count": null,
   "id": "5581424a-b6fb-447a-9f4d-1818b7b90bf9",
   "metadata": {},
   "outputs": [
    {
     "name": "stdout",
     "output_type": "stream",
     "text": [
      " === SIMPLE CALCULATOR === \n",
      "Choose Operation : \n",
      " 1. Addition (+) : \n",
      " 2. Subtraction (-) : \n",
      " 3. Multiplication (*) : \n",
      " 4. Division (/) : \n"
     ]
    }
   ],
   "source": [
    "def add(x,y):\n",
    "    return x+y\n",
    "def substract(x,y):\n",
    "    return x-y\n",
    "def multiply(x,y):\n",
    "    return x*y\n",
    "def division(x,y):\n",
    "    if y== 0:\n",
    "        print (\"Error: Divide by Zero\")\n",
    "    return x/y\n",
    "    \n",
    "print(\" === SIMPLE CALCULATOR === \")\n",
    "\n",
    "print(\"Choose Operation : \")\n",
    "print(\" 1. Addition (+) : \")\n",
    "print(\" 2. Subtraction (-) : \")\n",
    "print(\" 3. Multiplication (*) : \")\n",
    "print(\" 4. Division (/) : \")\n",
    "\n",
    "op = input(\"Enter your choice (+ , - , * , /) : \")\n",
    "a = float(input(\" Enter your first number : \"))\n",
    "b = float(input(\" Enter your second number : \"))\n",
    "\n",
    "if op == '+':\n",
    "    result = add(a,b)\n",
    "elif op == '-':\n",
    "    result = subtract(a,b)\n",
    "elif op == '*':\n",
    "    result = multiply(a,b)\n",
    "elif op == '/':\n",
    "    result = division(a,b)\n",
    "else:\n",
    "    result =  \"Invalid Operator\"\n",
    "\n",
    "print(\"Result : \" , result)\n",
    "    \n",
    "    \n",
    "    "
   ]
  },
  {
   "cell_type": "code",
   "execution_count": null,
   "id": "246de75b-b3a8-4b4b-b129-d75ceb8bbb94",
   "metadata": {},
   "outputs": [],
   "source": []
  }
 ],
 "metadata": {
  "kernelspec": {
   "display_name": "Python 3 (ipykernel)",
   "language": "python",
   "name": "python3"
  },
  "language_info": {
   "codemirror_mode": {
    "name": "ipython",
    "version": 3
   },
   "file_extension": ".py",
   "mimetype": "text/x-python",
   "name": "python",
   "nbconvert_exporter": "python",
   "pygments_lexer": "ipython3",
   "version": "3.13.5"
  }
 },
 "nbformat": 4,
 "nbformat_minor": 5
}
