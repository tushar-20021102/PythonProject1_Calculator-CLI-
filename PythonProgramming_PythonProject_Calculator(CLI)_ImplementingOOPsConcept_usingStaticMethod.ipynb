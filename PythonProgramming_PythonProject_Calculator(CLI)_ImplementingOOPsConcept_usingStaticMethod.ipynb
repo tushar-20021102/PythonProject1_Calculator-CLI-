{
 "cells": [
  {
   "cell_type": "code",
   "execution_count": 2,
   "id": "bb95ceb9-5947-475c-924d-dc846e9b104f",
   "metadata": {},
   "outputs": [
    {
     "name": "stdout",
     "output_type": "stream",
     "text": [
      " === SIMPLE CALCULATOR === \n",
      " Choose Operation: \n",
      " 1. Addition (+) \n",
      " 2. Subtraction (-) \n",
      " 3. Multiplication (*) \n",
      " 4. Division (/) \n"
     ]
    },
    {
     "name": "stdin",
     "output_type": "stream",
     "text": [
      " Enter your Choice (+ , - , * , /) :  +\n",
      " Enter your first number:  5.5\n",
      " Enter your second number:  5.5\n"
     ]
    },
    {
     "name": "stdout",
     "output_type": "stream",
     "text": [
      " Result :  11.0\n"
     ]
    }
   ],
   "source": [
    "class Calculator:\n",
    "    @staticmethod\n",
    "    def add(x, y):\n",
    "        return x + y\n",
    "\n",
    "    @staticmethod\n",
    "    def subtract(x, y):\n",
    "        return x - y\n",
    "\n",
    "    @staticmethod\n",
    "    def multiply(x, y):\n",
    "        return x * y\n",
    "\n",
    "    @staticmethod\n",
    "    def division(x, y):\n",
    "        if y == 0:\n",
    "            return \"Error: Divide by zero\"\n",
    "        return x / y\n",
    "\n",
    "\n",
    "# === DRIVER CODE ===\n",
    "##calc = Calculator()  #Doesn't have to create an Object\n",
    "\n",
    "print(\" === SIMPLE CALCULATOR === \")\n",
    "\n",
    "print(\" Choose Operation: \")\n",
    "print(\" 1. Addition (+) \")\n",
    "print(\" 2. Subtraction (-) \")\n",
    "print(\" 3. Multiplication (*) \")\n",
    "print(\" 4. Division (/) \")\n",
    "\n",
    "op = input(\" Enter your Choice (+ , - , * , /) : \")\n",
    "a = float(input(\" Enter your first number: \"))\n",
    "b = float(input(\" Enter your second number: \"))\n",
    "\n",
    "if op == '+':\n",
    "    result = Calculator.add(a, b)\n",
    "elif op == '-':\n",
    "    result = Calculator.subtract(a, b)\n",
    "elif op == '*':\n",
    "    result = Calculator.multiply(a, b)\n",
    "elif op == '/':\n",
    "    result = Calculator.division(a, b)\n",
    "else:\n",
    "    result = \" Invalid Operator \"\n",
    "\n",
    "print(\" Result : \", result)\n"
   ]
  },
  {
   "cell_type": "code",
   "execution_count": null,
   "id": "1e557921-511f-45aa-a824-885e3f16d204",
   "metadata": {},
   "outputs": [],
   "source": []
  }
 ],
 "metadata": {
  "kernelspec": {
   "display_name": "Python 3 (ipykernel)",
   "language": "python",
   "name": "python3"
  },
  "language_info": {
   "codemirror_mode": {
    "name": "ipython",
    "version": 3
   },
   "file_extension": ".py",
   "mimetype": "text/x-python",
   "name": "python",
   "nbconvert_exporter": "python",
   "pygments_lexer": "ipython3",
   "version": "3.13.5"
  }
 },
 "nbformat": 4,
 "nbformat_minor": 5
}
