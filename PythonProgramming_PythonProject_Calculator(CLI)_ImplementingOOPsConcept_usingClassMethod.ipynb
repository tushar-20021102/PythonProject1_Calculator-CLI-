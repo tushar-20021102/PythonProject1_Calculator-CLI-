{
 "cells": [
  {
   "cell_type": "code",
   "execution_count": null,
   "id": "3973bdb3-d955-4ca8-b283-4e2ddb0a60ac",
   "metadata": {},
   "outputs": [
    {
     "name": "stdout",
     "output_type": "stream",
     "text": [
      " === SIMPLE CALCULATOR === \n",
      " Choose Operation: \n",
      " 1. Addition (+) \n",
      " 2. Subtraction (-) \n",
      " 3. Multiplication (*) \n",
      " 4. Division (/) \n"
     ]
    }
   ],
   "source": [
    "class Calculator:\n",
    "    @classmethod #Class Methods → use cls, making them suitable for class-level operations.\n",
    "    def add(cls, x, y):\n",
    "        return x + y\n",
    "\n",
    "    @classmethod #Class Methods → use cls, making them suitable for class-level operations.\n",
    "    def subtract(cls, x, y):\n",
    "        return x - y\n",
    "\n",
    "    @classmethod #Class Methods → use cls, making them suitable for class-level operations.\n",
    "    def multiply(cls, x, y):\n",
    "        return x * y\n",
    "\n",
    "    @classmethod #Class Methods → use cls, making them suitable for class-level operations.\n",
    "    def division(cls, x, y):\n",
    "        if y == 0:\n",
    "            return \"Error: Divide by zero\"\n",
    "        return x / y\n",
    "\n",
    "\n",
    "# === DRIVER CODE ===\n",
    "print(\" === SIMPLE CALCULATOR === \")\n",
    "\n",
    "print(\" Choose Operation: \")\n",
    "print(\" 1. Addition (+) \")\n",
    "print(\" 2. Subtraction (-) \")\n",
    "print(\" 3. Multiplication (*) \")\n",
    "print(\" 4. Division (/) \")\n",
    "\n",
    "op = input(\" Enter your Choice (+ , - , * , /) : \")\n",
    "a = float(input(\" Enter your first number: \"))\n",
    "b = float(input(\" Enter your second number: \"))\n",
    "\n",
    "if op == '+':\n",
    "    result = Calculator.add(a, b)\n",
    "elif op == '-':\n",
    "    result = Calculator.subtract(a, b)\n",
    "elif op == '*':\n",
    "    result = Calculator.multiply(a, b)\n",
    "elif op == '/':\n",
    "    result = Calculator.division(a, b)\n",
    "else:\n",
    "    result = \" Invalid Operator \"\n",
    "\n",
    "print(\" Result : \", result)\n"
   ]
  },
  {
   "cell_type": "code",
   "execution_count": null,
   "id": "99802e6a-843d-4bbc-a4b5-9d9b47858f87",
   "metadata": {},
   "outputs": [],
   "source": []
  }
 ],
 "metadata": {
  "kernelspec": {
   "display_name": "Python 3 (ipykernel)",
   "language": "python",
   "name": "python3"
  },
  "language_info": {
   "codemirror_mode": {
    "name": "ipython",
    "version": 3
   },
   "file_extension": ".py",
   "mimetype": "text/x-python",
   "name": "python",
   "nbconvert_exporter": "python",
   "pygments_lexer": "ipython3",
   "version": "3.13.5"
  }
 },
 "nbformat": 4,
 "nbformat_minor": 5
}
