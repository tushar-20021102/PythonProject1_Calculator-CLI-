{
 "cells": [
  {
   "cell_type": "code",
   "execution_count": 1,
   "id": "bd88c3d5-52c0-4336-8bab-a0d9cb712b31",
   "metadata": {},
   "outputs": [],
   "source": [
    "#Conceptual Description about \"Static Method\" and \"Normal Method(self)\""
   ]
  },
  {
   "cell_type": "code",
   "execution_count": 4,
   "id": "5f75697c-604f-49f5-91b9-ed48945e3345",
   "metadata": {},
   "outputs": [
    {
     "name": "stdout",
     "output_type": "stream",
     "text": [
      "8\n",
      "8\n",
      "8\n"
     ]
    },
    {
     "data": {
      "text/plain": [
       "'3. Why staticmethod doesn’t create an object?\\n\\nBecause it doesn’t need self or cls (class reference).\\n\\nIt’s just a function inside a class.\\n\\nNo object state is needed → so no object creation is required.\\n\\nThink of it like this:\\nstaticmethod = “I don’t care about the object, I only need my inputs.”\\n\\nIn short:\\n\\ndef method(self, …) → needs object (self) → must create an object.\\n\\n@staticmethod def method(…) → no self → can call directly from the class.'"
      ]
     },
     "execution_count": 4,
     "metadata": {},
     "output_type": "execute_result"
    }
   ],
   "source": [
    "'''Normal Methods (self methods)\n",
    "\n",
    "In Python, when you define a method like this:'''\n",
    "\n",
    "class Calculator:\n",
    "    def add(self, x, y):\n",
    "        return x + y\n",
    "\n",
    "\n",
    "'''The first parameter is self, which means it is bound to an object.\n",
    "\n",
    "So, you must first create an object:'''\n",
    "\n",
    "calc = Calculator()\n",
    "print(calc.add(5, 3))   # 8\n",
    "\n",
    "\n",
    "'''Here, self refers to that calc object.\n",
    "\n",
    "2. Static Methods (@staticmethod)\n",
    "\n",
    "A static method does not take self.\n",
    "\n",
    "It behaves like a normal function, but is placed inside a class for logical grouping.'''\n",
    "\n",
    "#Example:\n",
    "\n",
    "class Calculator:\n",
    "    @staticmethod\n",
    "    def add(x, y):\n",
    "        return x + y\n",
    "\n",
    "\n",
    "#Since it has no self, you don’t need to create an object:\n",
    "\n",
    "print(Calculator.add(5, 3))   # 8\n",
    "\n",
    "\n",
    "#You can still call it using an object if you want, but that’s not necessary:\n",
    "\n",
    "calc = Calculator()\n",
    "print(calc.add(5, 3))   # also works → 8\n",
    "\n",
    "'''3. Why staticmethod doesn’t create an object?\n",
    "\n",
    "Because it doesn’t need self or cls (class reference).\n",
    "\n",
    "It’s just a function inside a class.\n",
    "\n",
    "No object state is needed → so no object creation is required.\n",
    "\n",
    "Think of it like this:\n",
    "staticmethod = “I don’t care about the object, I only need my inputs.”\n",
    "\n",
    "In short:\n",
    "\n",
    "def method(self, …) → needs object (self) → must create an object.\n",
    "\n",
    "@staticmethod def method(…) → no self → can call directly from the class.'''\n",
    "\n"
   ]
  },
  {
   "cell_type": "code",
   "execution_count": null,
   "id": "2a1f9e64-75d9-42d7-9c21-1c2e354a5343",
   "metadata": {},
   "outputs": [],
   "source": []
  }
 ],
 "metadata": {
  "kernelspec": {
   "display_name": "Python 3 (ipykernel)",
   "language": "python",
   "name": "python3"
  },
  "language_info": {
   "codemirror_mode": {
    "name": "ipython",
    "version": 3
   },
   "file_extension": ".py",
   "mimetype": "text/x-python",
   "name": "python",
   "nbconvert_exporter": "python",
   "pygments_lexer": "ipython3",
   "version": "3.13.5"
  }
 },
 "nbformat": 4,
 "nbformat_minor": 5
}
