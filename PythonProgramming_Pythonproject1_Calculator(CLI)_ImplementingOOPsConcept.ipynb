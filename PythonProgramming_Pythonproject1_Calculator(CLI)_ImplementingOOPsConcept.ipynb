{
 "cells": [
  {
   "cell_type": "code",
   "execution_count": 11,
   "id": "467f39f7-e576-4f49-8d4b-c5833f131500",
   "metadata": {},
   "outputs": [
    {
     "name": "stdout",
     "output_type": "stream",
     "text": [
      " === SIMPLE CALCULATOR === \n",
      " Choose Operation: \n",
      " 1. Addition (+) \n",
      " 2. Subtraction (-) \n",
      " 3. Multiplication (*) \n",
      " 4. Division (/) \n"
     ]
    },
    {
     "name": "stdin",
     "output_type": "stream",
     "text": [
      " Enter your Choice (+ , - , * , /) :  *\n",
      " Enter your first number:  8.9\n",
      " Enter your second number:  9.8\n"
     ]
    },
    {
     "name": "stdout",
     "output_type": "stream",
     "text": [
      " Result :  87.22000000000001\n"
     ]
    }
   ],
   "source": [
    "class Calculator:\n",
    "    def add(self, x, y):\n",
    "        return x + y\n",
    "\n",
    "    def subtract(self, x, y):\n",
    "        return x - y\n",
    "\n",
    "    def multiply(self, x, y):\n",
    "        return x * y\n",
    "\n",
    "    def division(self, x, y):\n",
    "        if y == 0:\n",
    "            return \"Error: Divide by zero\"\n",
    "        return x / y\n",
    "\n",
    "\n",
    "# === DRIVER CODE ===\n",
    "calc = Calculator()  # Create Object\n",
    "\n",
    "print(\" === SIMPLE CALCULATOR === \")\n",
    "\n",
    "print(\" Choose Operation: \")\n",
    "print(\" 1. Addition (+) \")\n",
    "print(\" 2. Subtraction (-) \")\n",
    "print(\" 3. Multiplication (*) \")\n",
    "print(\" 4. Division (/) \")\n",
    "\n",
    "op = input(\" Enter your Choice (+ , - , * , /) : \")\n",
    "a = float(input(\" Enter your first number: \"))\n",
    "b = float(input(\" Enter your second number: \"))\n",
    "\n",
    "if op == '+':\n",
    "    result = calc.add(a, b)\n",
    "elif op == '-':\n",
    "    result = calc.subtract(a, b)\n",
    "elif op == '*':\n",
    "    result = calc.multiply(a, b)\n",
    "elif op == '/':\n",
    "    result = calc.division(a, b)\n",
    "else:\n",
    "    result = \" Invalid Operator \"\n",
    "\n",
    "print(\" Result : \", result)\n"
   ]
  },
  {
   "cell_type": "code",
   "execution_count": 2,
   "id": "9c962ac2-bfa5-459d-a961-93573505b972",
   "metadata": {},
   "outputs": [],
   "source": []
  },
  {
   "cell_type": "code",
   "execution_count": null,
   "id": "593b8004-d373-40c7-9ac4-4604989955d6",
   "metadata": {},
   "outputs": [],
   "source": []
  },
  {
   "cell_type": "code",
   "execution_count": null,
   "id": "8c4cc475-dd16-44d1-b1e7-768466bf9d3d",
   "metadata": {},
   "outputs": [],
   "source": []
  }
 ],
 "metadata": {
  "kernelspec": {
   "display_name": "Python 3 (ipykernel)",
   "language": "python",
   "name": "python3"
  },
  "language_info": {
   "codemirror_mode": {
    "name": "ipython",
    "version": 3
   },
   "file_extension": ".py",
   "mimetype": "text/x-python",
   "name": "python",
   "nbconvert_exporter": "python",
   "pygments_lexer": "ipython3",
   "version": "3.13.5"
  }
 },
 "nbformat": 4,
 "nbformat_minor": 5
}
